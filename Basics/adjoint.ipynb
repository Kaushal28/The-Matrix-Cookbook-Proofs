{
 "cells": [
  {
   "cell_type": "markdown",
   "metadata": {},
   "source": [
    "**1.**\n",
    "### $A.adj(A)= adj(A).A = |A|I$\n",
    "<!-- spaces -->\n",
    "#### Let  A be a square matrix of order n and C represent the cofactor matrix of A and adj(A) represent the adjoint of matrix A .\n",
    "\n",
    "$$(adj(A))_{ij} = [C_{ij}]^T = C_{ji}$$\n",
    "<br>\n",
    "$$(A.adj(A))_{ij} = \\sum_{r=1}^{r=n} a_{ir}.(adj(A))_{rj}$$\n",
    "<br>\n",
    "$$(A.adj(A))_{ij} = \\sum_{r=1}^{r=n} a_{ir}.C_{jr}$$\n",
    "<br> \n",
    "#### We Know,\n",
    "<!-- spaces -->\n",
    "##### Sum of products of  elements with their corresponding cofactor is equal to the determinant of the matrix.\n",
    "<br>\n",
    "\n",
    "$$(A.adj(A))_{ij} = \\sum_{r=1}^{r=n} a_{ir}.C_{jr} = \\left\\{\\begin{array}\\\\ |A| & \\mbox{if } \\ i=j \n",
    "                                                                         \\\\ 0 & \\mbox{if } \\ i \\neq j\n",
    "\\end{array}\\right.$$\n",
    "\n",
    "<br>\n",
    "\n",
    "#### So,\n",
    "<br>\n",
    "$$ A.adj(A) = \\begin{bmatrix} |A| &  0  &  0  & . & . & 0\n",
    "                            \\\\  0  & |A| &  0  & . & . & 0\n",
    "                            \\\\  .  & . & . & . & . & .\n",
    "                            \\\\  .  & . & . & . & . & .\n",
    "                            \\\\  0  & 0 & . & . & . & |A|\n",
    "                            \\end{bmatrix}_{n\\times n}$$\n",
    "                            \n",
    "<br>\n",
    "$$ A.adj(A) = |A|.\\begin{bmatrix} 1 &  0  &  0  & . & . & 0\n",
    "                            \\\\  0  & 1 &  0  & . & . & 0\n",
    "                            \\\\  .  & . & . & . & . & .\n",
    "                            \\\\  .  & . & . & . & . & .\n",
    "                            \\\\  0  & 0 & . & . & . & 1\n",
    "                            \\end{bmatrix}_{n\\times n}$$\n",
    "                            \n",
    "<br>\n",
    "$$A.adj(A) = |A|.I_{n}$$\n",
    "\n",
    "<!-- spaces -->\n",
    "##### Similarly we can prove adj(A).A = |A|.I\n",
    "\n",
    "\n"
   ]
  },
  {
   "cell_type": "code",
   "execution_count": null,
   "metadata": {},
   "outputs": [],
   "source": []
  }
 ],
 "metadata": {
  "kernelspec": {
   "display_name": "Python 3",
   "language": "python",
   "name": "python3"
  },
  "language_info": {
   "codemirror_mode": {
    "name": "ipython",
    "version": 3
   },
   "file_extension": ".py",
   "mimetype": "text/x-python",
   "name": "python",
   "nbconvert_exporter": "python",
   "pygments_lexer": "ipython3",
   "version": "3.7.3"
  }
 },
 "nbformat": 4,
 "nbformat_minor": 2
}
