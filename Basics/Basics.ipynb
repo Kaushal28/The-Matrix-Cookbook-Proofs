{
 "cells": [
  {
   "cell_type": "markdown",
   "metadata": {},
   "source": [
    "### 1. $(AB)^{-1} = B^{-1}A^{-1}$ \n",
    "\n",
    "Multiply both side with $AB$\n",
    "\n",
    "$$\n",
    "\\begin{aligned}\\\\\n",
    "(AB)^{-1}AB &= B^{-1}A^{-1}AB \\\\\n",
    "\\end{aligned}\n",
    "$$\n",
    "\n",
    "Now, LHS = $(AB)^{-1}AB = I$ and RHS = $B^{-1}A^{-1}AB$\n",
    "\n",
    "$$\n",
    "\\begin{aligned}\\\\\n",
    "RHS &= B^{-1}A^{-1}AB \\\\\n",
    "&= B^{-1}IB \\\\\n",
    "&= B^{-1}B \\\\\n",
    "&= I \\\\\n",
    "&= LHS\n",
    "\\end{aligned}\n",
    "$$\n",
    "\n",
    "Hence proved: $(AB)^{-1} = B^{-1}A^{-1}$\n",
    "\n",
    "---\n"
   ]
  },
  {
   "cell_type": "markdown",
   "metadata": {},
   "source": [
    "### 2. $(ABC..)^{-1} = \\; ...C^{-1}B^{-1}A^{-1}$\n",
    "\n",
    "This is generalized case of equation (1) and can be proved similarly.\n",
    "\n",
    "---"
   ]
  },
  {
   "cell_type": "markdown",
   "metadata": {},
   "source": [
    "### 3. $(A^T)^{-1} = (A^{-1})^T$\n",
    "\n",
    "Let's start with RHS.\n",
    "\n",
    "$$\n",
    "\\begin{aligned} \\\\\n",
    "RHS &= (A^{-1})^T \\\\\n",
    "&= (A^{-1})^TA^T(A^T)^{-1} \\;\\;\\;\\;\\; \\because A^T(A^T)^{-1} = I \\\\\n",
    "&= (AA^{-1})^T(A^T)^{-1}  \\;\\;\\;\\;\\;\\;\\; \\because B^TA^T = (AB)^T \\;\\;\\; \\text{See proof of equation $(5)$ for this} \\\\\n",
    "&= I^T(A^T)^{-1} \\\\\n",
    "&= (A^T)^{-1} \\\\\n",
    "&= LHS \\\\\n",
    "\\end{aligned}\n",
    "$$\n",
    "\n",
    "___"
   ]
  },
  {
   "cell_type": "markdown",
   "metadata": {},
   "source": [
    "### 4. $ (A + B)^T  = (A^T + B^T) $\n",
    "\n",
    "The $(i, j)^{th}$ element of $(A^T + B^T)$ is the sum of $(i, j)^{th}$ elements of $A^T$ and $B^T$, which are $(j, i)^{th}$ element of $A$ and $B$, respectively. Thus the $(i, j)^{th}$ element of $A^T + B^T$ is the $(j, i)^{th}$ element of the sum of $A$ and $B$, which is equal to the $(i,j)^{th}$ element of the transpose $(A+B)^T$.\n",
    "\n",
    "___"
   ]
  },
  {
   "cell_type": "markdown",
   "metadata": {},
   "source": [
    "### 5. $(AB)^T = B^TA^T$\n",
    "\n",
    "The fact that $(AB)^T=B^TA^T$ follows from the formulas\n",
    "$$\n",
    "\\begin{aligned}\n",
    "(ab)^T_{ki}\n",
    "&=ab_{ik}\\\\\n",
    "&=\\sum_{j=1}^na_{ij}b_{jk}\n",
    "\\end{aligned}\n",
    "$$\n",
    "and\n",
    "$$\n",
    "\\begin{aligned}\n",
    "(b^Ta^T)_{ki}\n",
    "&=\\sum_{j=1}^nb^T_{kj}a^T_{ji}\\\\\n",
    "&=\\sum_{j=1}^nb_{jk}a_{ij}\\\\\n",
    "&=\\sum_{j=1}^na_{ij}b_{jk}\n",
    "\\end{aligned}\n",
    "$$\n",
    "\n",
    "From above equations:  $(AB)^T = B^TA^T$.\n",
    "\n",
    "---\n"
   ]
  },
  {
   "cell_type": "markdown",
   "metadata": {},
   "source": [
    "### 6. $ (A_1A_2A_3...)^T = \\;...A_3^TA_2^TA_1^T$\n",
    "\n",
    "This is generalized form of above equation $(5)$. To extend it to more than two matrices, use induction:\n",
    "\n",
    "Suppose that for some $n$, we have\n",
    "$$\n",
    "(A_1A_2\\dots A_n)^T=A_n^T\\dots A_2^TA_1^T\\tag{1}\n",
    "$$\n",
    "Note that we have already derived $(5)$ for $n=2$.\n",
    "\n",
    "Then, using the two matrix result and $(1)$, we have\n",
    "\n",
    "$$\n",
    "\\begin{aligned} \\\\\n",
    "(A_1A_2\\dots A_nA_{n+1})^T &= ((A_1A_2\\dots A_n)A_{n+1})^T  \\\\\n",
    "&=A_{n+1}^T(A_1A_2\\dots A_n)^T  \\\\\n",
    "&=A_{n+1}^TA_n^T\\dots A_2^TA_1^T\n",
    "\\end{aligned}\n",
    "$$\n",
    "\n",
    "---"
   ]
  },
  {
   "cell_type": "markdown",
   "metadata": {},
   "source": [
    "### 7. $ (A^H)^{-1} = (A^{-1})^H $\n",
    "\n",
    "Let's start with RHS.\n",
    "\n",
    "$$\n",
    "\\begin{aligned} \\\\\n",
    "RHS &= (A^{-1})^H \\\\\n",
    "&= (A^{-1})^HA^H(A^H)^{-1} \\;\\;\\;\\;\\; \\because A^H(A^H)^{-1} = I \\\\\n",
    "&= (AA^{-1})^H(A^T)^{-1}  \\;\\;\\;\\;\\;\\;\\; \\because B^HA^H = (AB)^H \\;\\;\\; \\text{See proof of equation $(9)$ for this} \\\\\n",
    "&= I^H(A^H)^{-1} \\\\\n",
    "&= (A^H)^{-1} \\\\\n",
    "&= LHS \\\\\n",
    "\\end{aligned}\n",
    "$$\n",
    "\n",
    "___\n"
   ]
  },
  {
   "cell_type": "markdown",
   "metadata": {},
   "source": [
    "### 8. $ (A + B)^H = A^H + B^H $"
   ]
  },
  {
   "cell_type": "markdown",
   "metadata": {},
   "source": []
  }
 ],
 "metadata": {
  "kernelspec": {
   "display_name": "Python 3",
   "language": "python",
   "name": "python3"
  },
  "language_info": {
   "codemirror_mode": {
    "name": "ipython",
    "version": 3
   },
   "file_extension": ".py",
   "mimetype": "text/x-python",
   "name": "python",
   "nbconvert_exporter": "python",
   "pygments_lexer": "ipython3",
   "version": "3.7.4"
  }
 },
 "nbformat": 4,
 "nbformat_minor": 2
}
